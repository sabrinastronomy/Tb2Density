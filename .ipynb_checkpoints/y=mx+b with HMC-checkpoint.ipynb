{
 "cells": [
  {
   "cell_type": "markdown",
   "metadata": {},
   "source": [
    "# Straight Line with a Hamiltonian Monte Carlo (HMC)\n",
    "## 1) Writing out the Bayes' theorem formulation of problem\n",
    "Remembering the simple form of a straight line, y = mx + b, we can create the Bayes' theorem formulation of this. A good way to develop some intuition for Bayesian statistics is to think about Bayes' theorem as a way of updating your prior based on data. Your prior describes what you think the distribution of your parameters is. We start with Bayes' theorem:\n",
    "\n",
    "$$p(A|B) = \\frac{p(B|A) p(A)}{p(B)},$$\n",
    "where p(A|B) is the posterior, p(B|A) is the likelihood, p(A) is the prior, and p(B) is the evidence.  \n",
    "In a more intuitive way, we can write it as:\n",
    "$$p(\\textrm{theory relation|my data}) = \\frac{p(\\textrm{data|theory relation}) p(\\textrm{theory relation})}{p(\\textrm{data})}.$$ Theory relation here really represents a model for our data that says something about our universe.\n",
    "\n",
    "### Bayes' Theorem for our problem\n",
    "$$p(m, b|y) = \\frac{p(y|m,b) p(m, b)}{p(y)}$$\n",
    "\n",
    "\n",
    "Finally, let's go through eterimining the likelihood and prior for our problem. You may wonder, wait, what happened to the evidence? We can actually think of the evidence as a normalizing factor and can leave it off to make writing up our posterior easier. Remember we can easily normalize post sampling our posterior since remember. The evidence really just allows our posterior to integrate to 1, i.e., normalized!\n",
    "\n",
    "\n",
    "### Wait, where's the data? \n",
    "Our plan of attack is to generate some noisy data around the actual values for a straight line where m = 1 and b = -2 to use as our data. We'll be sampling different values of m and b in our MCMC (described in 2), but note that we are NOT fitting for our data like you might do in a least squares problem. We'll use the evaluations from the MCMC to help us infer these parameters\n",
    "\n",
    "### Prior: p(m, b)\n",
    "We can assume a gaussian prior for our distributions centered at 0, i.e., \n",
    "\n",
    "$$p(m, b) = \\frac{1}{2 \\pi \\sigma_m \\sigma_b} e^{\\frac{-m^2}{2 \\sigma_m^2}} e^{\\frac{-b^2}{2 \\sigma_b^2}}.$$\n",
    "\n",
    "Remember we have an uncorrelataed prior so we can multiple the two gaussian distributions for b and m together easily. \n",
    "\n",
    "### Likelihood: p(y|m,b)\n",
    "\n",
    "Now onto the likelihood. Honestly, this is always the trickiest part for me to think about probably because I'm not a theorist. When thinking about the values of the likelihood, we need to remember that because of the sign of the likelihood, the closer the values are to 0 (the less negative) the more likely this theorist relation or model is. \n",
    "\n",
    "Our theoretical likelihood is a dirac delta (i.e., equal to infinity when its argument is 0 and equal to 0 everywhere else):\n",
    "$$p(y|m,b) = \\delta^D (y - (mx + b)).$$ \n",
    "\n",
    "However, this only works if our data is perfect with no errors which never happens. We instead need to use a gaussian distribution to model this type of likelihood.\n",
    "\n",
    "$$\\lim_{\\sigma \\to 0} \\frac{1}{\\sigma \\sqrt{2\\pi}} e^{\\frac{-x^2}{2\\sigma^2}} = \\delta^{D}(x).$$\n",
    "\n",
    "So if we take our gaussian $\\sigma$ value to 0, centered at our model value (mx+b), we will end up with a dirac delta. Therefore, we can write our likelihood as follows for ONE y value:\n",
    "\n",
    "$$p(y|m,b) = \\frac{1}{\\sigma_y \\sqrt{2\\pi}} e^{\\frac{-[y - (mx + b)]^2}{2 \\sigma_y^2}}.$$\n",
    "\n",
    "Our $\\sigma_y$ describes the gaussian distribution of the y value. Wait but we're going to need to calculate the log-likelihood for all the y values for a given m and b, we need a sum since the log-likelihood should be a value not an array.\n",
    "\n",
    "$$p(y|m,b) = \\frac{1}{(2 \\pi \\sigma_y^2)^{n/2}} e^{\\frac{-\\sum_{i=1}^{n}[y_i - (mx_i + b)]^2}{2 \\sigma_y^2}},$$\n",
    "\n",
    "where n is the length of the array (remembering that Python arrays start indexing at 0).\n",
    "\n",
    "\n",
    "Note: Be careful about confusing the prior with the posterior, especially the standard deviations (as I have done before). Remember the prior describes what you think the distribution of the parameters you want to know are. The likelihood describes the probability distribution of the model matching the data.\n",
    "\n",
    "### Alas, the logged thing we will sample!\n",
    "Okay, now let's log everything and see what we're left with for our not normalized posterior (remember we're not including the evidence). \n",
    "$$\\log{p(y|m,b)} = \\log\\left[\\frac{1}{2 \\pi \\sigma_m \\sigma_b} \\frac{1}{(2 \\pi \\sigma_y^2)^{n/2}}\\right] + \\left[ \\frac{-\\sum_{i=1}^{n}[y_i - (mx_i + b)]^2}{2 \\sigma_y^2} + \\frac{-m^2}{2 \\sigma_m^2} + \\frac{-b^2}{2 \\sigma_b^2} \\right]$$\n",
    "\n",
    "$$\\log{p(y|m,b)} = \\log\\left[\\frac{1}{2 \\pi \\sigma_m \\sigma_b} \\frac{1}{(2 \\pi \\sigma_y^2)^{n/2}}\\right] - \\left[ \\frac{\\sum_{i=1}^{n}[y_i - (mx_i + b)]^2}{2 \\sigma_y^2} + \\frac{m^2}{2 \\sigma_m^2} + \\frac{b^2}{2 \\sigma_b^2} \\right]$$\n",
    "\n",
    "### Gradients (if using a Hamiltonian Monte Carlo (HMC))\n",
    "#### derivative of log-likelihood with respect to m:\n",
    "$$\\frac{d\\log{p(y|m,b)}}{dm} = - \\left[\\frac{\\sum_i[y_i - (m x_i + b)][- x_i]}{\\sigma_y^2} + \\frac{m}{\\sigma_m^2}\\right]$$\n",
    "\n",
    "#### derivative of log-likelihood with respect to b:\n",
    "$$\\frac{d\\log{p(y|m,b)}}{db} = - \\left[\\frac{\\sum_i[-y_i + (m x_i + b)]}{\\sigma_y^2} + \\frac{b}{\\sigma_b^2}\\right]$$\n"
   ]
  },
  {
   "cell_type": "markdown",
   "metadata": {},
   "source": [
    "## 2) Sampling from our posterior\n",
    "Here's the fun part! Where the Monte Carlo Markov Chain (MCMC) does the difficult work for us by sampling our posterior. Note that many MCMC algorithms take in what they call the log-likelihood. This is the logged version of your likelihood and your prior. It should really be called the $\\textbf{logged not normalized posterior}$, but you'll hear log-likelihood interchanged for this quite often. Let's start by writing a function to return our numeric log likelihood."
   ]
  },
  {
   "cell_type": "code",
   "execution_count": 3,
   "metadata": {},
   "outputs": [],
   "source": [
    "import numpy as np\n",
    "import pyhmc\n",
    "import matplotlib.pyplot as plt\n",
    "import corner\n",
    "%matplotlib inline"
   ]
  },
  {
   "cell_type": "code",
   "execution_count": 4,
   "metadata": {},
   "outputs": [],
   "source": [
    "def log_posterior(m, b, data_ys, data_xs, sigma_b, sigma_m, sigma_y):\n",
    "    \"\"\"\n",
    "    This function returns the log posterior for a straight line.\n",
    "    \n",
    "    Parameters\n",
    "    ----------\n",
    "    data_ys: y values that we're trying to figure out the straight line parameters for\n",
    "    data_xs: x values that correspond to our x values\n",
    "    m: slope of line\n",
    "    b: y-intercept of line\n",
    "    sigma_b: standard deviation of gaussian distribution prior describing b\n",
    "    sigma_m: standard deviation of gaussian distribution prior describing m\n",
    "    sigma_y: standard deviation of gaussian distribution describing y data values\n",
    "    \n",
    "    Returnssu\n",
    "    ----------\n",
    "    log_posterior evaluated at given parameters above, constants for gradient\n",
    "    \"\"\"\n",
    "    n = len(data_ys) # length of data set\n",
    "    \n",
    "    log_constant_prior = np.log(1/(2*np.pi*sigma_m*sigma_b))\n",
    "    log_constant_likely = np.log(1/(2*np.pi*(sigma_y**2))**(n/2))\n",
    "    constants = log_constant_prior + log_constant_likely\n",
    "    \n",
    "    sum_likelihood = np.sum((data_ys-(m*data_xs+b))**2)\n",
    "    log_likely = (sum_likelihood)/(2*sigma_y**2)\n",
    "    log_prior = 0.5*((m/sigma_m)**2 + (b/sigma_b)**2)\n",
    "    \n",
    "    sum_likely_prior = log_likely + log_prior\n",
    "    final_log_sum = constants - sum_likely_prior\n",
    "#     print(final_log_sum)\n",
    "    return final_log_sum, constants"
   ]
  },
  {
   "cell_type": "code",
   "execution_count": 5,
   "metadata": {},
   "outputs": [],
   "source": [
    "def gradients(data_ys, data_xs, m, b, sigma_m, sigma_b, sigma_y):\n",
    "    \"\"\"\n",
    "    This function returns the gradient of the log likelihood for fitting a straight line.\n",
    "    \n",
    "    Parameters\n",
    "    ----------\n",
    "    data_ys: y values that we're trying to figure out the straight line parameters for\n",
    "    data_xs: x values that correspond to our x values\n",
    "    m: slope of line\n",
    "    b: y-intercept of line\n",
    "    sigma_b: standard deviation of gaussian distribution prior describing b\n",
    "    sigma_m: standard deviation of gaussian distribution prior describing m\n",
    "    sigma_y: standard deviation of gaussian distribution describing y data values\n",
    "    \n",
    "    Returns\n",
    "    ----------\n",
    "    [m gradient, b gradient]\n",
    "    \n",
    "    \"\"\"\n",
    "    b_sums = np.sum(m*data_xs + b - data_ys)/(sigma_y**2)\n",
    "    b_gradient = -(b_sums + (b/sigma_b**2))\n",
    "    m_sums = np.sum(data_xs*(m*data_xs + b - data_ys))/(sigma_y**2)\n",
    "    m_gradient = -(m_sums + (m/sigma_m**2))\n",
    "\n",
    "    return np.asarray([m_gradient, b_gradient])"
   ]
  },
  {
   "cell_type": "code",
   "execution_count": 6,
   "metadata": {},
   "outputs": [],
   "source": [
    "def sample_this(params, data_ys, data_xs, sigma_m, sigma_b, sigma_y):\n",
    "    m = params[0]\n",
    "    b = params[1]\n",
    "    final_log_sum, constants = log_posterior(m, b, data_ys, data_xs, sigma_b, sigma_m, sigma_y)\n",
    "    grads = gradients(data_ys, data_xs, m, b, sigma_b, sigma_m, sigma_y)\n",
    "    return final_log_sum, grads"
   ]
  },
  {
   "cell_type": "code",
   "execution_count": 8,
   "metadata": {},
   "outputs": [
    {
     "data": {
      "text/plain": [
       "Text(0.5, 1.0, 'messy data!')"
      ]
     },
     "execution_count": 8,
     "metadata": {},
     "output_type": "execute_result"
    },
    {
     "data": {
      "image/png": "[encoded data removed]",
      "text/plain": [
       "<Figure size 864x576 with 1 Axes>"
      ]
     },
     "metadata": {
      "needs_background": "light"
     },
     "output_type": "display_data"
    }
   ],
   "source": [
    "m_actual = 1\n",
    "b_actual = 3\n",
    "sigma_y = 1\n",
    "data_xs = np.linspace(0, 100)\n",
    "data_ys = m_actual*data_xs + b_actual\n",
    "noise = np.random.normal(loc=0.0, scale=sigma_y, size = len(data_ys))\n",
    "data_ys = data_ys + noise\n",
    "\n",
    "plt.figure(figsize=(12,8))\n",
    "plt.plot(data_xs, data_ys)\n",
    "plt.title(\"messy data!\")"
   ]
  },
  {
   "cell_type": "code",
   "execution_count": 48,
   "metadata": {},
   "outputs": [
    {
     "data": {
      "image/png": "[encoded data removed]",
      "text/plain": [
       "<Figure size 396x396 with 4 Axes>"
      ]
     },
     "metadata": {
      "needs_background": "light"
     },
     "output_type": "display_data"
    }
   ],
   "source": [
    "# Now, let's set our sigma values that describe the prior and likelihood gaussian distributions\n",
    "sigma_m, sigma_b = 4, 4\n",
    "\n",
    "samples = pyhmc.hmc(sample_this, x0=[1.5, 2.5], args=(data_ys, data_xs, sigma_m, sigma_b, sigma_y), n_samples=int(1e4), epsilon = 0.0044, return_diagnostics=True)\n",
    "figure = corner.corner(samples[0], labels=[\"m\", \"b\"], show_titles=True, title_kwargs={\"fontsize\": 12})\n",
    "plt.savefig(\"sample_rate_0.0044.png\", facecolor='w')"
   ]
  },
  {
   "cell_type": "markdown",
   "metadata": {},
   "source": [
    "## 3) Optimizing hyperparameters"
   ]
  },
  {
   "cell_type": "code",
   "execution_count": 36,
   "metadata": {},
   "outputs": [
    {
     "name": "stdout",
     "output_type": "stream",
     "text": [
      "1\n",
      "0.0041\n",
      "2\n",
      "0.0194\n",
      "3\n",
      "0.041\n",
      "4\n",
      "0.081\n",
      "5\n",
      "0.1459\n",
      "6\n",
      "0.2172\n",
      "7\n",
      "0.3077\n",
      "8\n",
      "0.4133\n",
      "9\n",
      "0.9999\n",
      "10\n",
      "1.0\n",
      "11\n",
      "1.0\n",
      "12\n",
      "1.0\n",
      "13\n",
      "1.0\n",
      "14\n",
      "1.0\n",
      "15\n",
      "1.0\n",
      "16\n",
      "1.0\n",
      "17\n",
      "1.0\n",
      "18\n",
      "1.0\n",
      "19\n",
      "1.0\n",
      "20\n",
      "1.0\n",
      "21\n",
      "1.0\n",
      "22\n",
      "1.0\n",
      "23\n",
      "1.0\n",
      "24\n",
      "1.0\n",
      "25\n",
      "1.0\n",
      "26\n",
      "1.0\n",
      "27\n",
      "1.0\n",
      "28\n",
      "1.0\n",
      "29\n",
      "1.0\n",
      "30\n",
      "1.0\n",
      "31\n",
      "1.0\n",
      "32\n",
      "1.0\n",
      "33\n",
      "1.0\n",
      "34\n",
      "1.0\n",
      "35\n",
      "1.0\n",
      "36\n",
      "1.0\n",
      "37\n",
      "1.0\n",
      "38\n",
      "1.0\n",
      "39\n",
      "1.0\n",
      "40\n",
      "1.0\n",
      "41\n",
      "1.0\n",
      "42\n",
      "1.0\n",
      "43\n",
      "1.0\n",
      "44\n",
      "1.0\n",
      "45\n",
      "1.0\n",
      "46\n",
      "1.0\n",
      "47\n",
      "1.0\n",
      "48\n",
      "1.0\n",
      "49\n",
      "1.0\n",
      "50\n",
      "1.0\n"
     ]
    }
   ],
   "source": [
    "acceptance_rates = []\n",
    "i = 0\n",
    "for eps in np.linspace(0.001, 0.025, 50):\n",
    "    i += 1\n",
    "    print(i)\n",
    "    hmc_output = pyhmc.hmc(sample_this, x0=[1.5, 2.5], args=(data_ys, data_xs, sigma_m, sigma_b, sigma_y), n_samples=int(1e4), epsilon = eps, return_diagnostics=True, return_logp=True)\n",
    "    print(hmc_output[2][\"rej\"])\n",
    "    acceptance_rates.append(hmc_output[2][\"rej\"])"
   ]
  },
  {
   "cell_type": "code",
   "execution_count": 47,
   "metadata": {},
   "outputs": [
    {
     "name": "stdout",
     "output_type": "stream",
     "text": [
      "0.004428571428571428\n",
      "0.4133\n"
     ]
    },
    {
     "data": {
      "image/png": "[encoded data removed]",
      "text/plain": [
       "<Figure size 432x288 with 1 Axes>"
      ]
     },
     "metadata": {
      "needs_background": "light"
     },
     "output_type": "display_data"
    }
   ],
   "source": [
    "plt.close()\n",
    "epsilons = np.linspace(0.001, 0.025, 50)\n",
    "print(epsilons[7])\n",
    "\n",
    "print(acceptance_rates[7])\n",
    "plt.plot(epsilons, acceptance_rates, marker = 'o')\n",
    "plt.xlabel(\"Epsilon\")\n",
    "plt.ylabel(\"Rejection Rate\")\n",
    "plt.savefig(\"hyperparameter_op.png\", facecolor='w')"
   ]
  },
  {
   "cell_type": "code",
   "execution_count": null,
   "metadata": {},
   "outputs": [],
   "source": []
  }
 ],
 "metadata": {
  "kernelspec": {
   "display_name": "pyhmc",
   "language": "python",
   "name": "pyhmc"
  },
  "language_info": {
   "codemirror_mode": {
    "name": "ipython",
    "version": 3
   },
   "file_extension": ".py",
   "mimetype": "text/x-python",
   "name": "python",
   "nbconvert_exporter": "python",
   "pygments_lexer": "ipython3",
   "version": "3.9.1"
  }
 },
 "nbformat": 4,
 "nbformat_minor": 4
}
